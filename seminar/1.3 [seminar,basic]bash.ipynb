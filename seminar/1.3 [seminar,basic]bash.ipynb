{
 "cells": [
  {
   "cell_type": "code",
   "execution_count": 1,
   "metadata": {
    "colab": {
     "base_uri": "https://localhost:8080/",
     "height": 136
    },
    "colab_type": "code",
    "executionInfo": {
     "elapsed": 3771,
     "status": "ok",
     "timestamp": 1551131097491,
     "user": {
      "displayName": "Илья Дмитриевич Захаркин",
      "photoUrl": "",
      "userId": "09157257912804633784"
     },
     "user_tz": -180
    },
    "id": "R-ljAeWuqNN4",
    "outputId": "413fbb15-d4c2-451b-de45-ea588f63099d"
   },
   "outputs": [
    {
     "name": "stdout",
     "output_type": "stream",
     "text": [
      "                 (__) \r\n",
      "                 (oo) \r\n",
      "           /------\\/ \r\n",
      "          / |    ||   \r\n",
      "         *  /\\---/\\ \r\n",
      "            ~~   ~~   \r\n",
      "...\"Have you mooed today?\"...\r\n"
     ]
    }
   ],
   "source": [
    "!apt-get moo"
   ]
  },
  {
   "cell_type": "markdown",
   "metadata": {
    "colab_type": "text",
    "id": "SR5360mDq7IG"
   },
   "source": [
    "В этом ноутбуке мы рассмотрим базовые команды командной строки в Linux\n",
    "\n",
    "План\n",
    "  - Команды UNIX\n",
    "  - Файловая система\n",
    "  - Аргументы к командам\n",
    "  - Переменные окружения\n"
   ]
  },
  {
   "cell_type": "markdown",
   "metadata": {
    "colab_type": "text",
    "id": "exbUbtJhzNW0"
   },
   "source": [
    "# Команды в UNIX"
   ]
  },
  {
   "cell_type": "markdown",
   "metadata": {
    "colab_type": "text",
    "id": "cyxieSjTuGpw"
   },
   "source": [
    "Линукс принадлежит большому семейству операционных систем под названием UNIX, коорые происходят от ОС AT&T Unix, разроботанной еще в 1970х. Mac OS, кстати тоже ее потомок.\n",
    "\n",
    "В операционных системах UNIX-типа для взаимодействия с ОС используют специальные команды. До появления окошек и кнопочек люди создавали файлы и запускали команды исключительно с помощью этих команд. \n",
    "\n",
    "Сейчас этот способ тоже исользуют, тк есть ряд преимуществ:\n",
    " - Намного более удобное подключение к компьютеру по сети\n",
    " - Иногда удобнее запустить одну команду, чем бродить по менюшкам в поисках нужной опции.\n",
    " - Ломанды можно составлять в скрипты и автоматизировать задачи\n",
    " \n",
    "\n"
   ]
  },
  {
   "cell_type": "markdown",
   "metadata": {
    "colab_type": "text",
    "id": "4Kgd_-Jdq-HJ"
   },
   "source": [
    "Небольшой ликбез по понятиям:\n",
    "\n",
    "- **Командная строка** - вид интерфейса, когда вы набираете текстовые команды\n",
    "- **Терминал** - Программа, которая отображает строку. Например: *gnome-terminal*, *xterm*, *tilda*\n",
    "- **Оболочка (shell)** - Программа которая выполняет команды. Например: *bash*, *zsh*, *ssh*\n",
    "- **Консоль** - Железо, например клавиатура и монитор."
   ]
  },
  {
   "cell_type": "markdown",
   "metadata": {
    "colab_type": "text",
    "id": "zsNEkoiC4I3d"
   },
   "source": [
    "Запускать команды можно как из терминала, так и из юпитера или колаба, поставив перед командой !"
   ]
  },
  {
   "cell_type": "code",
   "execution_count": 2,
   "metadata": {
    "colab": {},
    "colab_type": "code",
    "id": "wujSZ66i4UVm"
   },
   "outputs": [
    {
     "name": "stdout",
     "output_type": "stream",
     "text": [
      "Hello World\r\n"
     ]
    }
   ],
   "source": [
    "!echo \"Hello World\""
   ]
  },
  {
   "cell_type": "markdown",
   "metadata": {
    "colab_type": "text",
    "id": "z8n1PxRZ0j7P"
   },
   "source": [
    "# Файловая система"
   ]
  },
  {
   "cell_type": "markdown",
   "metadata": {
    "colab_type": "text",
    "id": "WwN4S7rv08JV"
   },
   "source": [
    "В Unix системах все файлы образуют структуру похожую на дерево, в каждой директории(папке) хранятся файлы и другие директории. Самая первая директория которая содержит все остальные, называется корневой (*root*)\n",
    "\n",
    "\n",
    "У каждой директории есть путь (по сути, просто строка) который показывает где она находится в этом дереве. \"/\" - это путь корневой директории. \n",
    "\n",
    "---\n",
    "\n",
    "\n",
    "\n",
    "![alt text](http://linuxcommand.org/images/file_manager.jpg)\n",
    "\n",
    "В командной строке все команды выполняются в какой-либо директории.\n",
    "\n",
    "Представьте, что дерево файловой системы - это лабиринт, и каждая директория - это комната с файлами и дверьми в другие директории. В каждый момент времени вы находитесь в одной комнате.\n",
    "\n",
    "Посмотрм, как нам ходить по нашему лабиринту."
   ]
  },
  {
   "cell_type": "code",
   "execution_count": 3,
   "metadata": {
    "colab": {},
    "colab_type": "code",
    "id": "j2I1ZXrKq0tp"
   },
   "outputs": [
    {
     "name": "stdout",
     "output_type": "stream",
     "text": [
      "/home/kl/Рабочий стол/DLS/advance/seminar\r\n"
     ]
    }
   ],
   "source": [
    "# Выведем путь текущей директории\n",
    "!pwd"
   ]
  },
  {
   "cell_type": "code",
   "execution_count": 4,
   "metadata": {
    "colab": {},
    "colab_type": "code",
    "id": "9sQwAxoT5-kO"
   },
   "outputs": [
    {
     "name": "stdout",
     "output_type": "stream",
     "text": [
      "'1.3 [seminar,basic]bash.ipynb'  '1.3 [seminar,basic]tools.ipynb'\r\n"
     ]
    }
   ],
   "source": [
    "# Посмотрим что в нашей директории есть\n",
    "!ls \n",
    "#ls is for \"list\""
   ]
  },
  {
   "cell_type": "markdown",
   "metadata": {
    "colab_type": "text",
    "id": "6nxK6kkD7b_f"
   },
   "source": [
    "Некоторые директории хранят файлы необходимые для работы программ. В них нужно что-либо менять только если значешь, что делаешь. \n",
    "\n",
    "Это так называемые скрытые директории (hidden или dot directories/files)."
   ]
  },
  {
   "cell_type": "code",
   "execution_count": 5,
   "metadata": {
    "colab": {},
    "colab_type": "code",
    "id": "OVS6HKB26mG2"
   },
   "outputs": [],
   "source": [
    "#"
   ]
  },
  {
   "cell_type": "code",
   "execution_count": 6,
   "metadata": {
    "colab": {},
    "colab_type": "code",
    "id": "nYL2dtfK6iWP"
   },
   "outputs": [
    {
     "name": "stdout",
     "output_type": "stream",
     "text": [
      "'1.3 [seminar,basic]bash.ipynb'    hello       world\r\n",
      "'1.3 [seminar,basic]tools.ipynb'   test-file\r\n"
     ]
    }
   ],
   "source": [
    "#Создадим пустой файлик\n",
    "! touch test-file\n",
    "# пробел в имени - плохая идея, создадутся два файла\n",
    "! touch hello world\n",
    "\n",
    "# посмотрим что получилось\n",
    "! ls"
   ]
  },
  {
   "cell_type": "code",
   "execution_count": 7,
   "metadata": {
    "colab": {},
    "colab_type": "code",
    "id": "AFTolllI-gJH"
   },
   "outputs": [
    {
     "name": "stdout",
     "output_type": "stream",
     "text": [
      "'1.3 [seminar,basic]bash.ipynb'    hello\r\n",
      "'1.3 [seminar,basic]tools.ipynb'   test-file\r\n"
     ]
    }
   ],
   "source": [
    "#Удаление файлов\n",
    "! rm world\n",
    "! ls"
   ]
  },
  {
   "cell_type": "code",
   "execution_count": 9,
   "metadata": {
    "colab": {},
    "colab_type": "code",
    "id": "dkLsVgkX_RNT"
   },
   "outputs": [],
   "source": [
    "# Новая директория\n",
    "! mkdir please_come_here\n"
   ]
  },
  {
   "cell_type": "markdown",
   "metadata": {
    "colab_type": "text",
    "id": "hgVO1IAOAseT"
   },
   "source": [
    "Некоторые директории хранят файлы необходимые для работы программ. В них нужно что-либо менять только если значешь, что делаешь.\n",
    "\n",
    "Это так называемые скрытые директории (hidden или dot directories/files).\n"
   ]
  },
  {
   "cell_type": "code",
   "execution_count": 10,
   "metadata": {
    "colab": {},
    "colab_type": "code",
    "id": "JTxijZDRq8bN"
   },
   "outputs": [
    {
     "name": "stdout",
     "output_type": "stream",
     "text": [
      "итого 72\r\n",
      "drwxr-xr-x 4 kl kl  4096 окт  4 15:53  .\r\n",
      "drwxr-xr-x 4 kl kl  4096 окт  4 14:13  ..\r\n",
      "-rw-rw-r-- 1 kl kl 24611 окт  4 15:51 '1.3 [seminar,basic]bash.ipynb'\r\n",
      "-rw-rw-r-- 1 kl kl 26696 окт  4 14:38 '1.3 [seminar,basic]tools.ipynb'\r\n",
      "-rw-r--r-- 1 kl kl     0 окт  4 15:51  hello\r\n",
      "drwxr-xr-x 2 kl kl  4096 окт  4 14:31  .ipynb_checkpoints\r\n",
      "drwxr-xr-x 2 kl kl  4096 окт  4 15:53  please_come_here\r\n",
      "-rw-r--r-- 1 kl kl     0 окт  4 15:51  test-file\r\n"
     ]
    }
   ],
   "source": [
    "# Покажем больше информации и отобразим скрытые файлы\n",
    "!ls -al\n",
    "# Первое слово - команда, а второе - аргумент"
   ]
  },
  {
   "cell_type": "markdown",
   "metadata": {
    "colab_type": "text",
    "id": "K8Tei_Rz8ELQ"
   },
   "source": [
    "\n",
    "\n",
    "```\n",
    ".  - это путь к той директории в которой мы уже находимся\n",
    ".. - это путь к родительской директории\n",
    ".config - это скрытая папка\n",
    "```\n",
    "\n",
    "Каждая строчка - это одна из \"дверей\" в другую директорию либо файл.\n",
    "*Относительный* путь это не полный \"адрес\" директории а то, куда нам нужно пойти из места в котором мы сейчас находимся. \n",
    "\n",
    "\n",
    "```\n",
    " drwxr-xr-x 1 root root 4096 Feb 15 17:21 please_come_here\n",
    " |                           дата создания    |\n",
    " |                                         _относительный_ путь\n",
    " |\n",
    "  \\ эта метка значит, что это путь к другой директории\n",
    "```\n",
    "\n"
   ]
  },
  {
   "cell_type": "code",
   "execution_count": 13,
   "metadata": {
    "colab": {},
    "colab_type": "code",
    "id": "ozI5vv-G_Ato"
   },
   "outputs": [
    {
     "name": "stdout",
     "output_type": "stream",
     "text": [
      "/home/kl/Рабочий стол/DLS/advance/seminar\n",
      "/home/kl/Рабочий стол/DLS/advance/seminar\n"
     ]
    }
   ],
   "source": [
    "# переход в другую директорию команда cd\n",
    "! pwd\n",
    "! cd please_come_here\n",
    "! pwd"
   ]
  },
  {
   "cell_type": "markdown",
   "metadata": {
    "colab_type": "text",
    "id": "j1YxW23TCoDo"
   },
   "source": [
    "Заработало?\n",
    "\n",
    "Не должно. Тут проблема в том что юпитер запускает каждый раз новую оболочку в своей директории (той, откуда его вызвали) , и после завершения команды она закрывается.\n",
    "\n",
    "Чтоб команды запускались в новой директории нужно поменять директорию самого юпитера.\n",
    "\n",
    "\n",
    "```\n",
    "%cd\n",
    "```\n",
    "\n"
   ]
  },
  {
   "cell_type": "code",
   "execution_count": 14,
   "metadata": {
    "colab": {},
    "colab_type": "code",
    "id": "KwJPa7wBA7QK"
   },
   "outputs": [
    {
     "name": "stdout",
     "output_type": "stream",
     "text": [
      "/home/kl/Рабочий стол/DLS/advance/seminar\n",
      "/home/kl/Рабочий стол/DLS/advance/seminar/please_come_here\n",
      "/home/kl/Рабочий стол/DLS/advance/seminar/please_come_here\n"
     ]
    }
   ],
   "source": [
    "! pwd\n",
    "% cd please_come_here\n",
    "! pwd"
   ]
  },
  {
   "cell_type": "markdown",
   "metadata": {
    "colab_type": "text",
    "id": "XkxqDBlcpvtR"
   },
   "source": [
    "Когда мы переходим в другую директорию, ее имя добавляется к нашему пути через \"/\"\n",
    "\n",
    "Например, были в `/home`, перешли в директорию `Pictures `оказались в `/home/Pictures`\n",
    "\n",
    "Абсолютный путь файла в этой директории будет /home/Picutes/image.png \n",
    "\n",
    "Если мы хотим взять файл из директории, которая является дочерней к той директории, где мы сейчас находимся, мы можем указать относительный путь файла.\n",
    "\n",
    "Например, из директории `/home` мы должны обращаться к нему по пути `Pictures/image.png`"
   ]
  },
  {
   "cell_type": "code",
   "execution_count": 15,
   "metadata": {
    "colab": {},
    "colab_type": "code",
    "id": "2HUAw_NLBKyb"
   },
   "outputs": [
    {
     "name": "stdout",
     "output_type": "stream",
     "text": [
      "/home/kl/Рабочий стол/DLS/advance/seminar/please_come_here\n",
      "/home/kl/Рабочий стол/DLS/advance/seminar\n",
      "/home/kl/Рабочий стол/DLS/advance/seminar\n",
      "/home/kl/Рабочий стол/DLS/advance/seminar/please_come_here\n"
     ]
    }
   ],
   "source": [
    "# команды можно комбинировать в одну символом &\n",
    "! ls & ls -a & pwd\n",
    "%cd ..\n",
    "\n",
    "# Чтоб команды выполнялись одна за одной нужно использовать &&\n",
    "! pwd && cd please_come_here && pwd"
   ]
  },
  {
   "cell_type": "markdown",
   "metadata": {
    "colab_type": "text",
    "id": "hDuUsb-hSmsJ"
   },
   "source": [
    "## Запись и чтение в файлы"
   ]
  },
  {
   "cell_type": "code",
   "execution_count": 16,
   "metadata": {
    "colab": {},
    "colab_type": "code",
    "id": "KzJChjwnRhm4"
   },
   "outputs": [
    {
     "name": "stdout",
     "output_type": "stream",
     "text": [
      "Sample text Пример текста\r\n"
     ]
    }
   ],
   "source": [
    "# Вывести текст в консоль\n",
    "\n",
    "!echo \"Sample text Пример текста\"\n",
    "# Echo - потому что команда выводит на выход то же, что и получает"
   ]
  },
  {
   "cell_type": "code",
   "execution_count": 17,
   "metadata": {
    "colab": {},
    "colab_type": "code",
    "id": "WKrcMKg9R-I5"
   },
   "outputs": [],
   "source": [
    "# Вместо консоли отправить в файл\n",
    "\n",
    "! echo \"London is the capital of Great Britain\" >> English.txt\n"
   ]
  },
  {
   "cell_type": "code",
   "execution_count": 18,
   "metadata": {
    "colab": {},
    "colab_type": "code",
    "id": "4Ht2nwgeSXhi"
   },
   "outputs": [
    {
     "name": "stdout",
     "output_type": "stream",
     "text": [
      "London is the capital of Great Britain\r\n"
     ]
    }
   ],
   "source": [
    "# Прочитать файл и вывести в консоль\n",
    "\n",
    "! cat English.txt"
   ]
  },
  {
   "cell_type": "markdown",
   "metadata": {
    "colab_type": "text",
    "id": "9DRyKxZJUdNx"
   },
   "source": [
    "## Скачивание из интернета"
   ]
  },
  {
   "cell_type": "code",
   "execution_count": 19,
   "metadata": {
    "colab": {},
    "colab_type": "code",
    "id": "EzS_vui3Ucer"
   },
   "outputs": [
    {
     "name": "stdout",
     "output_type": "stream",
     "text": [
      "  % Total    % Received % Xferd  Average Speed   Time    Time     Time  Current\n",
      "                                 Dload  Upload   Total   Spent    Left  Speed\n",
      "100  1256  100  1256    0     0   5277      0 --:--:-- --:--:-- --:--:--  5277\n",
      "'1.3 [seminar,basic]bash.ipynb'    example-com.html   test-file\n",
      "'1.3 [seminar,basic]tools.ipynb'   hello\n",
      " English.txt\t\t\t   please_come_here\n",
      "<!doctype html>\n",
      "<html>\n",
      "<head>\n",
      "    <title>Example Domain</title>\n",
      "\n",
      "    <meta charset=\"utf-8\" />\n",
      "    <meta http-equiv=\"Content-type\" content=\"text/html; charset=utf-8\" />\n",
      "    <meta name=\"viewport\" content=\"width=device-width, initial-scale=1\" />\n",
      "    <style type=\"text/css\">\n",
      "    body {\n",
      "        background-color: #f0f0f2;\n",
      "        margin: 0;\n",
      "        padding: 0;\n",
      "        font-family: -apple-system, system-ui, BlinkMacSystemFont, \"Segoe UI\", \"Open Sans\", \"Helvetica Neue\", Helvetica, Arial, sans-serif;\n",
      "        \n",
      "    }\n",
      "    div {\n",
      "        width: 600px;\n",
      "        margin: 5em auto;\n",
      "        padding: 2em;\n",
      "        background-color: #fdfdff;\n",
      "        border-radius: 0.5em;\n",
      "        box-shadow: 2px 3px 7px 2px rgba(0,0,0,0.02);\n",
      "    }\n",
      "    a:link, a:visited {\n",
      "        color: #38488f;\n",
      "        text-decoration: none;\n",
      "    }\n",
      "    @media (max-width: 700px) {\n",
      "        div {\n",
      "            margin: 0 auto;\n",
      "            width: auto;\n",
      "        }\n",
      "    }\n",
      "    </style>    \n",
      "</head>\n",
      "\n",
      "<body>\n",
      "<div>\n",
      "    <h1>Example Domain</h1>\n",
      "    <p>This domain is for use in illustrative examples in documents. You may use this\n",
      "    domain in literature without prior coordination or asking for permission.</p>\n",
      "    <p><a href=\"https://www.iana.org/domains/example\">More information...</a></p>\n",
      "</div>\n",
      "</body>\n",
      "</html>\n"
     ]
    }
   ],
   "source": [
    "# сохраняем старницу по адресу\n",
    "\n",
    "! curl example.com >> example-com.html\n",
    "! ls\n",
    "! cat example-com.html\n"
   ]
  },
  {
   "cell_type": "code",
   "execution_count": 20,
   "metadata": {
    "colab": {},
    "colab_type": "code",
    "id": "bONrzreaXVkD"
   },
   "outputs": [],
   "source": [
    "! curl instagram.com"
   ]
  },
  {
   "cell_type": "markdown",
   "metadata": {
    "colab_type": "text",
    "id": "hdEXswC6YBCJ"
   },
   "source": [
    "Иногда сервера пытаются перенаправить запрос на другой адрес. Curl не следует по таким перенаправлениям. Есть прогаммка wget которая может переходить по таким ссылкам и вообще проходить по всем ссылкам на странице и скачивать их."
   ]
  },
  {
   "cell_type": "code",
   "execution_count": 21,
   "metadata": {
    "colab": {},
    "colab_type": "code",
    "id": "BscMnGvUYeBT"
   },
   "outputs": [
    {
     "name": "stdout",
     "output_type": "stream",
     "text": [
      "--2020-10-04 15:58:12--  http://instagram.com/\n",
      "Распознаётся instagram.com (instagram.com)… 52.1.238.189, 35.172.167.44, 3.226.111.93, ...\n",
      "Подключение к instagram.com (instagram.com)|52.1.238.189|:80... соединение установлено.\n",
      "HTTP-запрос отправлен. Ожидание ответа… 301 Moved Permanently\n",
      "Адрес: https://instagram.com/ [переход]\n",
      "--2020-10-04 15:58:13--  https://instagram.com/\n",
      "Подключение к instagram.com (instagram.com)|52.1.238.189|:443... соединение установлено.\n",
      "HTTP-запрос отправлен. Ожидание ответа… 301 Moved Permanently\n",
      "Адрес: https://www.instagram.com/ [переход]\n",
      "--2020-10-04 15:58:13--  https://www.instagram.com/\n",
      "Распознаётся www.instagram.com (www.instagram.com)… 31.13.72.174, 2a03:2880:f20a:e5:face:b00c:0:4420\n",
      "Подключение к www.instagram.com (www.instagram.com)|31.13.72.174|:443... соединение установлено.\n",
      "HTTP-запрос отправлен. Ожидание ответа… 200 OK\n",
      "Кукисы, полученные из www.instagram.com, попытались изменить домен на i.instagram.com\n",
      "Кукисы, полученные из www.instagram.com, попытались изменить домен на i.instagram.com\n",
      "Длина: 45095 (44K) [text/html]\n",
      "Сохранение в: «insta.html»\n",
      "\n",
      "insta.html          100%[===================>]  44,04K  --.-KB/s    за 0,03s   \n",
      "\n",
      "2020-10-04 15:58:14 (1,29 MB/s) - «insta.html» сохранён [45095/45095]\n",
      "\n"
     ]
    }
   ],
   "source": [
    "! wget instagram.com -O insta.html"
   ]
  },
  {
   "cell_type": "markdown",
   "metadata": {
    "colab_type": "text",
    "id": "vvDscEabYqhr"
   },
   "source": [
    "Обратите внимание на\n",
    "\n",
    "`HTTP request sent, awaiting response... 301 Moved Permanently`"
   ]
  },
  {
   "cell_type": "code",
   "execution_count": 0,
   "metadata": {
    "colab": {},
    "colab_type": "code",
    "id": "YLwadqvPYpW4"
   },
   "outputs": [],
   "source": []
  },
  {
   "cell_type": "markdown",
   "metadata": {
    "colab_type": "text",
    "id": "MXDgtgM3PjlU"
   },
   "source": [
    "# Аргументы и параметры к командам"
   ]
  },
  {
   "cell_type": "markdown",
   "metadata": {
    "colab_type": "text",
    "id": "L5t2LkSzPwFa"
   },
   "source": [
    "Обычно аргументы – это то, над чем выполняется команда. Например, команда перехода в другую директорию должна получить в качестве аргумента путь директории, куда следует перейти. Команде вывода на экран содержимого файла надо передать имя файла.\n",
    "\n",
    "Параметры модифицируют, как бы видоизменяют работу программы. Например, с помощью команды просмотра содержимого каталога можно вывести простой список вложенных объектов. Используя же определенный параметр, можно получить подробные сведения о каждом файле и папке.\n",
    "\n",
    "Аргументы идут через пробел как отдельные слова\n",
    "\n",
    "Параметры идут после дефиса: ` -f` (однобуквенные) либо после двух дефисов: `--file`  "
   ]
  },
  {
   "cell_type": "code",
   "execution_count": 25,
   "metadata": {
    "colab": {},
    "colab_type": "code",
    "id": "uXUizaaSBnsl"
   },
   "outputs": [
    {
     "name": "stdout",
     "output_type": "stream",
     "text": [
      "                                  1997\r\n",
      "    Января            Февраля           Марта             Апреля            \r\n",
      "Пн     6 13 20 27        3 10 17 24        3 10 17 24 31     7 14 21 28   \r\n",
      "Вт     7 14 21 28        4 11 18 25        4 11 18 25     1  8 15 22 29   \r\n",
      "Ср  1  8 15 22 29        5 12 19 26        5 12 19 26     2  9 16 23 30   \r\n",
      "Чт  2  9 16 23 30        6 13 20 27        6 13 20 27     3 10 17 24      \r\n",
      "Пт  3 10 17 24 31        7 14 21 28        7 14 21 28     4 11 18 25      \r\n",
      "Сб  4 11 18 25        1  8 15 22        1  8 15 22 29     5 12 19 26      \r\n",
      "Вс  5 12 19 26        2  9 16 23        2  9 16 23 30     6 13 20 27      \r\n",
      "\r\n",
      "    Мая               Июня              Июля              Августа           \r\n",
      "Пн     5 12 19 26        2  9 16 23 30     7 14 21 28        4 11 18 25   \r\n",
      "Вт     6 13 20 27        3 10 17 24     1  8 15 22 29        5 12 19 26   \r\n",
      "Ср     7 14 21 28        4 11 18 25     2  9 16 23 30        6 13 20 27   \r\n",
      "Чт  1  8 15 22 29        5 12 19 26     3 10 17 24 31        7 14 21 28   \r\n",
      "Пт  2  9 16 23 30        6 13 20 27     4 11 18 25        1  8 15 22 29   \r\n",
      "Сб  3 10 17 24 31        7 14 21 28     5 12 19 26        2  9 16 23 30   \r\n",
      "Вс  4 11 18 25        1  8 15 22 29     6 13 20 27        3 10 17 24 31   \r\n",
      "\r\n",
      "    Сентября          Октября           Ноября            Декабря           \r\n",
      "Пн  1  8 15 22 29        6 13 20 27        3 10 17 24     1  8 15 22 29   \r\n",
      "Вт  2  9 16 23 30        7 14 21 28        4 11 18 25     2  9 16 23 30   \r\n",
      "Ср  3 10 17 24        1  8 15 22 29        5 12 19 26     3 10 17 24 31   \r\n",
      "Чт  4 11 18 25        2  9 16 23 30        6 13 20 27     4 11 18 25      \r\n",
      "Пт  5 12 19 26        3 10 17 24 31        7 14 21 28     5 12 19 26      \r\n",
      "Сб  6 13 20 27        4 11 18 25        1  8 15 22 29     6 13 20 27      \r\n",
      "Вс  7 14 21 28        5 12 19 26        2  9 16 23 30     7 14 21 28      \r\n"
     ]
    }
   ],
   "source": [
    "# календарик на весь год\n",
    "\n",
    "!ncal 1997\n"
   ]
  },
  {
   "cell_type": "code",
   "execution_count": 26,
   "metadata": {
    "colab": {},
    "colab_type": "code",
    "id": "2aciKu7IB5Vm"
   },
   "outputs": [
    {
     "name": "stdout",
     "output_type": "stream",
     "text": [
      "    Марта 2019        \r\n",
      "Пн     4 11 18 25   \r\n",
      "Вт     5 12 19 26   \r\n",
      "Ср     6 13 20 27   \r\n",
      "Чт     7 14 21 28   \r\n",
      "Пт  1  8 15 22 29   \r\n",
      "Сб  2  9 16 23 30   \r\n",
      "Вс  3 10 17 24 31   \r\n"
     ]
    }
   ],
   "source": [
    "# передаем 2 аргумента\n",
    "\n",
    "!ncal 03 2019\n"
   ]
  },
  {
   "cell_type": "code",
   "execution_count": 27,
   "metadata": {
    "colab": {},
    "colab_type": "code",
    "id": "4l3d14WtfIAA"
   },
   "outputs": [
    {
     "name": "stdout",
     "output_type": "stream",
     "text": [
      "     Марта 2019       \r\n",
      "Пн Вт Ср Чт Пт Сб Вс  \r\n",
      "             1  2  3  \r\n",
      " 4  5  6  7  8  9 10  \r\n",
      "11 12 13 14 15 16 17  \r\n",
      "18 19 20 21 22 23 24  \r\n",
      "25 26 27 28 29 30 31  \r\n",
      "                      \r\n"
     ]
    }
   ],
   "source": [
    "# передаем параметр -b\n",
    "\n",
    "!ncal -b 03 2019\n"
   ]
  },
  {
   "cell_type": "code",
   "execution_count": 28,
   "metadata": {
    "colab": {},
    "colab_type": "code",
    "id": "vk9NUxh4fQPy"
   },
   "outputs": [
    {
     "name": "stdout",
     "output_type": "stream",
     "text": [
      "       Марта 2019          \n",
      " w| Пн Вт Ср Чт Пт Сб Вс   \n",
      " 8|              1  2  3   \n",
      " 9|  4  5  6  7  8  9 10   \n",
      "10| 11 12 13 14 15 16 17   \n",
      "11| 18 19 20 21 22 23 24   \n",
      "12| 25 26 27 28 29 30 31   \n",
      "                           \n",
      "       Марта 2019          \n",
      " w| Пн Вт Ср Чт Пт Сб Вс   \n",
      " 8|              1  2  3   \n",
      " 9|  4  5  6  7  8  9 10   \n",
      "10| 11 12 13 14 15 16 17   \n",
      "11| 18 19 20 21 22 23 24   \n",
      "12| 25 26 27 28 29 30 31   \n",
      "                           \n"
     ]
    }
   ],
   "source": [
    "# Однобуквенные параметры можно склеивать\n",
    "\n",
    "!ncal -b -w 03 2019\n",
    "!ncal -bw 03 2019"
   ]
  },
  {
   "cell_type": "markdown",
   "metadata": {
    "colab_type": "text",
    "id": "V7jcOwBpgd1U"
   },
   "source": [
    "# Переменные окружения"
   ]
  },
  {
   "cell_type": "markdown",
   "metadata": {
    "colab_type": "text",
    "id": "gm-YZUlLi0lT"
   },
   "source": [
    "Оболочка в себе содержит так называемые переменные окружения - глобальные константы которые доступны всем программам которые она выполняет. В них удобно хранить например путь к конфигурационным файлам или порт какого нибудь сервиса.\n",
    "\n",
    "Переменные окружения зачастую определяют как ведет себя программа. Например, питон ищет пакеты в переменной `PYTHONPATH`\n",
    "\n",
    "В переменной `PATH` находятся пути в которых Bash ищет исполняемые файлы для других программ\n"
   ]
  },
  {
   "cell_type": "code",
   "execution_count": 29,
   "metadata": {
    "colab": {},
    "colab_type": "code",
    "id": "QRCUr1pTfQLZ"
   },
   "outputs": [
    {
     "name": "stdout",
     "output_type": "stream",
     "text": [
      "kindersurprise\r\n"
     ]
    }
   ],
   "source": [
    "# обьявляем переменную и считываем ее ($ перед именем)\n",
    "!FOO=kindersurprise && echo $FOO"
   ]
  },
  {
   "cell_type": "code",
   "execution_count": 30,
   "metadata": {
    "colab": {},
    "colab_type": "code",
    "id": "ow-40MynjgVV"
   },
   "outputs": [
    {
     "name": "stdout",
     "output_type": "stream",
     "text": [
      "/home/kl/anaconda3/bin:/home/kl/anaconda3/bin:/home/kl/.local/bin:/usr/local/sbin:/usr/local/bin:/usr/sbin:/usr/bin:/sbin:/bin:/usr/games:/usr/local/games:/snap/bin\n",
      "\n"
     ]
    }
   ],
   "source": [
    "!echo $PATH\n",
    "!echo $PYTHONPATH"
   ]
  },
  {
   "cell_type": "markdown",
   "metadata": {
    "colab_type": "text",
    "id": "n9L5dgVwkzhV"
   },
   "source": [
    "Мы можем создать новую папку и заставить питон думать что в ней лежит модуль"
   ]
  },
  {
   "cell_type": "code",
   "execution_count": 34,
   "metadata": {
    "colab": {},
    "colab_type": "code",
    "id": "uA50ME6BktK9"
   },
   "outputs": [],
   "source": [
    "! rm -r fakemodule\n",
    "!mkdir fakemodule\n",
    "!mkdir fakemodule/power\n",
    "! echo \"print('A great power comes with a great responsibility')\" >> fakemodule/power/__init__.py\n",
    "\n",
    "\n"
   ]
  },
  {
   "cell_type": "code",
   "execution_count": 36,
   "metadata": {
    "colab": {},
    "colab_type": "code",
    "id": "QgLMIDMkuRTk"
   },
   "outputs": [
    {
     "name": "stdout",
     "output_type": "stream",
     "text": [
      "Эта переменная будет доступна другим программам вызванным в той же оболочке\n",
      "\n"
     ]
    }
   ],
   "source": [
    "!export a=\"Эта переменная будет доступна другим программам вызванным в той же оболочке\" && echo $a\n",
    "# Но тут уже не получится, для каждой команды Jupyter запускает свою оболочку \n",
    "! echo $a"
   ]
  },
  {
   "cell_type": "code",
   "execution_count": 0,
   "metadata": {
    "colab": {},
    "colab_type": "code",
    "id": "y1v9jifPlRZv"
   },
   "outputs": [],
   "source": [
    "! PYTHONPATH=$PYTHONPATH:$(pwd)/fakemodule && python -c 'import power'"
   ]
  },
  {
   "cell_type": "markdown",
   "metadata": {
    "colab_type": "text",
    "id": "nU9-VI-ErsHX"
   },
   "source": [
    "конструкция `$(pwd)` подставляет вывод команды `pwd` в выражение. \n",
    "\n",
    "\n",
    "```\n",
    "PYTHONPATH=$PYTHONPATH:$(pwd)/fakemodule\n",
    "\n",
    "```\n",
    "После подстановки переменных мы получим \n",
    "\n",
    "```\n",
    "PYTHONPATH=<то что было в PYTHONPATH>:<текущая директория>/fakemodule\n",
    "\n",
    "```\n",
    "Это добавит нашу fakemodule в переменную окружения и позволит питону найти наш модуль\n",
    "\n"
   ]
  },
  {
   "cell_type": "code",
   "execution_count": 38,
   "metadata": {
    "colab": {},
    "colab_type": "code",
    "id": "62Ue2ovHmnTC"
   },
   "outputs": [],
   "source": [
    "!rm -r fakemodule"
   ]
  },
  {
   "cell_type": "code",
   "execution_count": 0,
   "metadata": {
    "colab": {},
    "colab_type": "code",
    "id": "p2lQ4YhLms_j"
   },
   "outputs": [],
   "source": []
  },
  {
   "cell_type": "code",
   "execution_count": 0,
   "metadata": {
    "colab": {},
    "colab_type": "code",
    "id": "A4FyM3HZoThB"
   },
   "outputs": [],
   "source": []
  }
 ],
 "metadata": {
  "colab": {
   "collapsed_sections": [
    "hDuUsb-hSmsJ",
    "9DRyKxZJUdNx"
   ],
   "name": "[seminar,basic]bash.ipynb",
   "provenance": []
  },
  "kernelspec": {
   "display_name": "Python 3",
   "language": "python",
   "name": "python3"
  },
  "language_info": {
   "codemirror_mode": {
    "name": "ipython",
    "version": 3
   },
   "file_extension": ".py",
   "mimetype": "text/x-python",
   "name": "python",
   "nbconvert_exporter": "python",
   "pygments_lexer": "ipython3",
   "version": "3.6.6"
  }
 },
 "nbformat": 4,
 "nbformat_minor": 1
}
